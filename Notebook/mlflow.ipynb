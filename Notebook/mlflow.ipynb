{
 "cells": [
  {
   "cell_type": "code",
   "execution_count": 38,
   "metadata": {},
   "outputs": [],
   "source": [
    "import os\n",
    "import sys\n",
    "\n",
    "import pandas as pd\n",
    "import numpy as np\n",
    "\n",
    "from sklearn.model_selection import train_test_split\n",
    "from sklearn.linear_model import ElasticNet\n",
    "from sklearn.metrics import mean_absolute_error, mean_squared_error, r2_score\n",
    "\n",
    "import mlflow"
   ]
  },
  {
   "cell_type": "markdown",
   "metadata": {},
   "source": [
    "### tracking setup"
   ]
  },
  {
   "cell_type": "code",
   "execution_count": 39,
   "metadata": {},
   "outputs": [],
   "source": [
    "# set the remote session to send the logs to\n",
    "remote_server_uri = \"http://127.0.0.1:5000\"\n",
    "mlflow.set_tracking_uri(remote_server_uri)"
   ]
  },
  {
   "cell_type": "code",
   "execution_count": 40,
   "metadata": {},
   "outputs": [
    {
     "data": {
      "text/plain": [
       "'http://127.0.0.1:5000'"
      ]
     },
     "execution_count": 40,
     "metadata": {},
     "output_type": "execute_result"
    }
   ],
   "source": [
    "mlflow.tracking.get_tracking_uri()"
   ]
  },
  {
   "cell_type": "code",
   "execution_count": 41,
   "metadata": {},
   "outputs": [
    {
     "name": "stderr",
     "output_type": "stream",
     "text": [
      "2024/08/21 11:34:07 INFO mlflow.tracking.fluent: Experiment with name 'ElasticNet_Wine' does not exist. Creating a new experiment.\n"
     ]
    },
    {
     "data": {
      "text/plain": [
       "<Experiment: artifact_location='/mnt/c/Users/satyendra.mishra/Work/mle-training-mlflow/Notebook/mlruns/195843194857294316', creation_time=1724220247184, experiment_id='195843194857294316', last_update_time=1724220247184, lifecycle_stage='active', name='ElasticNet_Wine', tags={}>"
      ]
     },
     "execution_count": 41,
     "metadata": {},
     "output_type": "execute_result"
    }
   ],
   "source": [
    "experiment_name = \"ElasticNet_Wine\"\n",
    "mlflow.set_experiment(experiment_name)"
   ]
  },
  {
   "cell_type": "markdown",
   "metadata": {},
   "source": [
    "### load the data"
   ]
  },
  {
   "cell_type": "code",
   "execution_count": 42,
   "metadata": {},
   "outputs": [],
   "source": [
    "def load_data(data_path):\n",
    "    data = pd.read_csv(data_path)\n",
    "    train, test = train_test_split(data, test_size=0.2, random_state=42)\n",
    "    train = train.reset_index(drop=True)\n",
    "    test = test.reset_index(drop=True)\n",
    "    train_X = train.drop([\"quality\"], axis=1)\n",
    "    test_X = test.drop([\"quality\"], axis=1)\n",
    "    train_y = train[[\"quality\"]].copy()\n",
    "    test_y = test[[\"quality\"]].copy()\n",
    "    return train_X, train_y, test_X, test_y\n",
    "\n",
    "def eval_metrics(y_true, y_pred):\n",
    "    mae = mean_absolute_error(y_true, y_pred)\n",
    "    rmse = np.sqrt(mean_squared_error(y_true, y_pred))\n",
    "    r2 = r2_score(y_true, y_pred)\n",
    "    return rmse, mae, r2"
   ]
  },
  {
   "cell_type": "code",
   "execution_count": 43,
   "metadata": {},
   "outputs": [],
   "source": [
    "datafile_path = \"../data/raw/wine-quality.csv\"\n",
    "X_train, y_train, X_test, y_test = load_data(datafile_path)"
   ]
  },
  {
   "cell_type": "code",
   "execution_count": 44,
   "metadata": {},
   "outputs": [],
   "source": [
    "def train(alpha, l1_ratio):\n",
    "    np.random.seed(42)\n",
    "    with mlflow.start_run():\n",
    "        net = ElasticNet(alpha=alpha, l1_ratio=l1_ratio, random_state=42)\n",
    "        net.fit(X_train, y_train)\n",
    "\n",
    "        preds = net.predict(X_test)\n",
    "\n",
    "        rmse, mae, r2 = eval_metrics(y_test, preds)\n",
    "\n",
    "        print(\"Elastic net model alpha = %.2f, l1 = %.2f\" %(alpha, l1_ratio))\n",
    "        print(\"Scores: rmse = %.4f, mae = %.4f, r2 = %.4f\" %(rmse, mae, r2))\n",
    "\n",
    "        mlflow.log_param(key=\"alpha\", value=alpha)\n",
    "        mlflow.log_param(key=\"l1_ratio\", value=l1_ratio)\n",
    "        mlflow.log_metric(key=\"rmse\", value=rmse)\n",
    "        mlflow.log_metrics({\"mae\": mae, \"r2\": r2})\n",
    "        mlflow.log_artifact(datafile_path)\n",
    "\n",
    "        print(\"save to {}\".format(mlflow.get_artifact_uri()))\n",
    "\n",
    "        mlflow.sklearn.log_model(net, \"ElasticNetModel\")"
   ]
  },
  {
   "cell_type": "code",
   "execution_count": 45,
   "metadata": {},
   "outputs": [
    {
     "name": "stdout",
     "output_type": "stream",
     "text": [
      "Elastic net model alpha = 0.50, l1 = 0.50\n",
      "Scores: rmse = 0.8220, mae = 0.6386, r2 = 0.1276\n",
      "save to /mnt/c/Users/satyendra.mishra/Work/mle-training-mlflow/Notebook/mlruns/195843194857294316/c56aed0a442645429f8bdba2ab2e8931/artifacts\n"
     ]
    },
    {
     "name": "stderr",
     "output_type": "stream",
     "text": [
      "2024/08/21 11:34:10 WARNING mlflow.models.model: Input example should be provided to infer model signature if the model signature is not provided when logging the model.\n",
      "2024/08/21 11:34:11 INFO mlflow.tracking._tracking_service.client: 🏃 View run unruly-roo-172 at: http://127.0.0.1:5000/#/experiments/195843194857294316/runs/c56aed0a442645429f8bdba2ab2e8931.\n",
      "2024/08/21 11:34:11 INFO mlflow.tracking._tracking_service.client: 🧪 View experiment at: http://127.0.0.1:5000/#/experiments/195843194857294316.\n"
     ]
    }
   ],
   "source": [
    "train(alpha=0.5, l1_ratio=0.5)"
   ]
  },
  {
   "cell_type": "code",
   "execution_count": 46,
   "metadata": {},
   "outputs": [
    {
     "name": "stdout",
     "output_type": "stream",
     "text": [
      "Elastic net model alpha = 0.20, l1 = 0.20\n",
      "Scores: rmse = 0.7874, mae = 0.6215, r2 = 0.1994\n",
      "save to /mnt/c/Users/satyendra.mishra/Work/mle-training-mlflow/Notebook/mlruns/195843194857294316/900fa7d0f8f24e019f7b7e8aa31aa481/artifacts\n"
     ]
    },
    {
     "name": "stderr",
     "output_type": "stream",
     "text": [
      "2024/08/21 11:34:14 WARNING mlflow.models.model: Input example should be provided to infer model signature if the model signature is not provided when logging the model.\n",
      "2024/08/21 11:34:15 INFO mlflow.tracking._tracking_service.client: 🏃 View run intrigued-robin-408 at: http://127.0.0.1:5000/#/experiments/195843194857294316/runs/900fa7d0f8f24e019f7b7e8aa31aa481.\n",
      "2024/08/21 11:34:15 INFO mlflow.tracking._tracking_service.client: 🧪 View experiment at: http://127.0.0.1:5000/#/experiments/195843194857294316.\n"
     ]
    }
   ],
   "source": [
    "train(alpha=0.2,  l1_ratio=0.2)"
   ]
  },
  {
   "cell_type": "code",
   "execution_count": 47,
   "metadata": {},
   "outputs": [
    {
     "name": "stdout",
     "output_type": "stream",
     "text": [
      "Elastic net model alpha = 0.10, l1 = 0.10\n",
      "Scores: rmse = 0.7825, mae = 0.6182, r2 = 0.2094\n",
      "save to /mnt/c/Users/satyendra.mishra/Work/mle-training-mlflow/Notebook/mlruns/195843194857294316/0e189fb01e4a4ea4b95d2e13c997f931/artifacts\n"
     ]
    },
    {
     "name": "stderr",
     "output_type": "stream",
     "text": [
      "2024/08/21 11:34:18 WARNING mlflow.models.model: Input example should be provided to infer model signature if the model signature is not provided when logging the model.\n",
      "2024/08/21 11:34:19 INFO mlflow.tracking._tracking_service.client: 🏃 View run melodic-shoat-925 at: http://127.0.0.1:5000/#/experiments/195843194857294316/runs/0e189fb01e4a4ea4b95d2e13c997f931.\n",
      "2024/08/21 11:34:19 INFO mlflow.tracking._tracking_service.client: 🧪 View experiment at: http://127.0.0.1:5000/#/experiments/195843194857294316.\n"
     ]
    }
   ],
   "source": [
    "train(alpha=0.1,  l1_ratio=0.1)"
   ]
  },
  {
   "cell_type": "code",
   "execution_count": 48,
   "metadata": {},
   "outputs": [
    {
     "name": "stdout",
     "output_type": "stream",
     "text": [
      "Elastic net model alpha = 0.01, l1 = 0.10\n",
      "Scores: rmse = 0.7672, mae = 0.5998, r2 = 0.2400\n",
      "save to /mnt/c/Users/satyendra.mishra/Work/mle-training-mlflow/Notebook/mlruns/195843194857294316/64277005834f486ab64c6826a606f8db/artifacts\n"
     ]
    },
    {
     "name": "stderr",
     "output_type": "stream",
     "text": [
      "2024/08/21 11:34:22 WARNING mlflow.models.model: Input example should be provided to infer model signature if the model signature is not provided when logging the model.\n",
      "2024/08/21 11:34:22 INFO mlflow.tracking._tracking_service.client: 🏃 View run carefree-snake-582 at: http://127.0.0.1:5000/#/experiments/195843194857294316/runs/64277005834f486ab64c6826a606f8db.\n",
      "2024/08/21 11:34:22 INFO mlflow.tracking._tracking_service.client: 🧪 View experiment at: http://127.0.0.1:5000/#/experiments/195843194857294316.\n"
     ]
    }
   ],
   "source": [
    "train(0.01, 0.1)"
   ]
  },
  {
   "cell_type": "markdown",
   "metadata": {},
   "source": [
    "#### Tagging"
   ]
  },
  {
   "cell_type": "code",
   "execution_count": 49,
   "metadata": {},
   "outputs": [],
   "source": [
    "from datetime import datetime\n",
    "from mlflow.tracking import MlflowClient"
   ]
  },
  {
   "cell_type": "code",
   "execution_count": 54,
   "metadata": {},
   "outputs": [
    {
     "data": {
      "text/plain": [
       "'http://127.0.0.1:5000'"
      ]
     },
     "execution_count": 54,
     "metadata": {},
     "output_type": "execute_result"
    }
   ],
   "source": [
    "client = MlflowClient()\n",
    "client.tracking_uri"
   ]
  },
  {
   "cell_type": "code",
   "execution_count": 56,
   "metadata": {},
   "outputs": [
    {
     "data": {
      "text/plain": [
       "[<Experiment: artifact_location='/mnt/c/Users/satyendra.mishra/Work/mle-training-mlflow/Notebook/mlruns/195843194857294316', creation_time=1724220247184, experiment_id='195843194857294316', last_update_time=1724220247184, lifecycle_stage='active', name='ElasticNet_Wine', tags={}>,\n",
       " <Experiment: artifact_location='/mnt/c/Users/satyendra.mishra/Work/mle-training-mlflow/Notebook/mlruns/0', creation_time=1724220229716, experiment_id='0', last_update_time=1724220229716, lifecycle_stage='active', name='Default', tags={}>]"
      ]
     },
     "execution_count": 56,
     "metadata": {},
     "output_type": "execute_result"
    }
   ],
   "source": [
    "client.search_experiments()"
   ]
  },
  {
   "cell_type": "code",
   "execution_count": 57,
   "metadata": {},
   "outputs": [
    {
     "data": {
      "text/plain": [
       "<Experiment: artifact_location='/mnt/c/Users/satyendra.mishra/Work/mle-training-mlflow/Notebook/mlruns/195843194857294316', creation_time=1724220247184, experiment_id='195843194857294316', last_update_time=1724220247184, lifecycle_stage='active', name='ElasticNet_Wine', tags={}>"
      ]
     },
     "execution_count": 57,
     "metadata": {},
     "output_type": "execute_result"
    }
   ],
   "source": [
    "wine_experiment = client.get_experiment(experiment_id=\"195843194857294316\")\n",
    "wine_experiment"
   ]
  },
  {
   "cell_type": "code",
   "execution_count": 59,
   "metadata": {},
   "outputs": [],
   "source": [
    "wine_experiment_runs = client.search_runs(experiment_ids=[wine_experiment.experiment_id])"
   ]
  },
  {
   "cell_type": "code",
   "execution_count": 64,
   "metadata": {},
   "outputs": [
    {
     "name": "stdout",
     "output_type": "stream",
     "text": [
      "536fac7ab53440a5a2ba0620d8f324aa\n"
     ]
    }
   ],
   "source": [
    "for run in wine_experiment_runs[:1]:\n",
    "    print(run.to_dictionary()[\"info\"][\"run_name\"], end=\"\\t\")\n",
    "    print(run.to_dictionary()[\"info\"][\"run_id\"])"
   ]
  },
  {
   "cell_type": "code",
   "execution_count": null,
   "metadata": {},
   "outputs": [],
   "source": [
    "_run = client.get_run()"
   ]
  }
 ],
 "metadata": {
  "kernelspec": {
   "display_name": "mle-dev",
   "language": "python",
   "name": "python3"
  },
  "language_info": {
   "codemirror_mode": {
    "name": "ipython",
    "version": 3
   },
   "file_extension": ".py",
   "mimetype": "text/x-python",
   "name": "python",
   "nbconvert_exporter": "python",
   "pygments_lexer": "ipython3",
   "version": "3.12.2"
  }
 },
 "nbformat": 4,
 "nbformat_minor": 2
}
