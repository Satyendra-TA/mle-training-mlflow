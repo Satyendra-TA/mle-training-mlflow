{
 "cells": [
  {
   "cell_type": "code",
   "execution_count": 4,
   "metadata": {},
   "outputs": [],
   "source": [
    "import os\n",
    "import sys\n",
    "\n",
    "import pandas as pd\n",
    "import numpy as np\n",
    "\n",
    "from sklearn.model_selection import train_test_split\n",
    "from sklearn.linear_model import ElasticNet\n",
    "from sklearn.metrics import mean_absolute_error, mean_squared_error, r2_score\n",
    "\n",
    "import mlflow"
   ]
  },
  {
   "cell_type": "markdown",
   "metadata": {},
   "source": [
    "### tracking setup"
   ]
  },
  {
   "cell_type": "code",
   "execution_count": 39,
   "metadata": {},
   "outputs": [],
   "source": [
    "# set the remote session to send the logs to\n",
    "remote_server_uri = \"http://127.0.0.1:5000\"\n",
    "mlflow.set_tracking_uri(remote_server_uri)"
   ]
  },
  {
   "cell_type": "code",
   "execution_count": 40,
   "metadata": {},
   "outputs": [
    {
     "data": {
      "text/plain": [
       "'http://127.0.0.1:5000'"
      ]
     },
     "execution_count": 40,
     "metadata": {},
     "output_type": "execute_result"
    }
   ],
   "source": [
    "mlflow.tracking.get_tracking_uri()"
   ]
  },
  {
   "cell_type": "code",
   "execution_count": 41,
   "metadata": {},
   "outputs": [
    {
     "name": "stderr",
     "output_type": "stream",
     "text": [
      "2024/08/21 11:34:07 INFO mlflow.tracking.fluent: Experiment with name 'ElasticNet_Wine' does not exist. Creating a new experiment.\n"
     ]
    },
    {
     "data": {
      "text/plain": [
       "<Experiment: artifact_location='/mnt/c/Users/satyendra.mishra/Work/mle-training-mlflow/Notebook/mlruns/195843194857294316', creation_time=1724220247184, experiment_id='195843194857294316', last_update_time=1724220247184, lifecycle_stage='active', name='ElasticNet_Wine', tags={}>"
      ]
     },
     "execution_count": 41,
     "metadata": {},
     "output_type": "execute_result"
    }
   ],
   "source": [
    "experiment_name = \"ElasticNet_Wine\"\n",
    "mlflow.set_experiment(experiment_name)"
   ]
  },
  {
   "cell_type": "markdown",
   "metadata": {},
   "source": [
    "### load the data"
   ]
  },
  {
   "cell_type": "code",
   "execution_count": 42,
   "metadata": {},
   "outputs": [],
   "source": [
    "def load_data(data_path):\n",
    "    data = pd.read_csv(data_path)\n",
    "    train, test = train_test_split(data, test_size=0.2, random_state=42)\n",
    "    train = train.reset_index(drop=True)\n",
    "    test = test.reset_index(drop=True)\n",
    "    train_X = train.drop([\"quality\"], axis=1)\n",
    "    test_X = test.drop([\"quality\"], axis=1)\n",
    "    train_y = train[[\"quality\"]].copy()\n",
    "    test_y = test[[\"quality\"]].copy()\n",
    "    return train_X, train_y, test_X, test_y\n",
    "\n",
    "def eval_metrics(y_true, y_pred):\n",
    "    mae = mean_absolute_error(y_true, y_pred)\n",
    "    rmse = np.sqrt(mean_squared_error(y_true, y_pred))\n",
    "    r2 = r2_score(y_true, y_pred)\n",
    "    return rmse, mae, r2"
   ]
  },
  {
   "cell_type": "code",
   "execution_count": 43,
   "metadata": {},
   "outputs": [],
   "source": [
    "datafile_path = \"../data/raw/wine-quality.csv\"\n",
    "X_train, y_train, X_test, y_test = load_data(datafile_path)"
   ]
  },
  {
   "cell_type": "code",
   "execution_count": 44,
   "metadata": {},
   "outputs": [],
   "source": [
    "def train(alpha, l1_ratio):\n",
    "    np.random.seed(42)\n",
    "    with mlflow.start_run():\n",
    "        net = ElasticNet(alpha=alpha, l1_ratio=l1_ratio, random_state=42)\n",
    "        net.fit(X_train, y_train)\n",
    "\n",
    "        preds = net.predict(X_test)\n",
    "\n",
    "        rmse, mae, r2 = eval_metrics(y_test, preds)\n",
    "\n",
    "        print(\"Elastic net model alpha = %.2f, l1 = %.2f\" %(alpha, l1_ratio))\n",
    "        print(\"Scores: rmse = %.4f, mae = %.4f, r2 = %.4f\" %(rmse, mae, r2))\n",
    "\n",
    "        mlflow.log_param(key=\"alpha\", value=alpha)\n",
    "        mlflow.log_param(key=\"l1_ratio\", value=l1_ratio)\n",
    "        mlflow.log_metric(key=\"rmse\", value=rmse)\n",
    "        mlflow.log_metrics({\"mae\": mae, \"r2\": r2})\n",
    "        mlflow.log_artifact(datafile_path)\n",
    "\n",
    "        print(\"save to {}\".format(mlflow.get_artifact_uri()))\n",
    "\n",
    "        mlflow.sklearn.log_model(net, \"ElasticNetModel\")"
   ]
  },
  {
   "cell_type": "code",
   "execution_count": 45,
   "metadata": {},
   "outputs": [
    {
     "name": "stdout",
     "output_type": "stream",
     "text": [
      "Elastic net model alpha = 0.50, l1 = 0.50\n",
      "Scores: rmse = 0.8220, mae = 0.6386, r2 = 0.1276\n",
      "save to /mnt/c/Users/satyendra.mishra/Work/mle-training-mlflow/Notebook/mlruns/195843194857294316/c56aed0a442645429f8bdba2ab2e8931/artifacts\n"
     ]
    },
    {
     "name": "stderr",
     "output_type": "stream",
     "text": [
      "2024/08/21 11:34:10 WARNING mlflow.models.model: Input example should be provided to infer model signature if the model signature is not provided when logging the model.\n",
      "2024/08/21 11:34:11 INFO mlflow.tracking._tracking_service.client: 🏃 View run unruly-roo-172 at: http://127.0.0.1:5000/#/experiments/195843194857294316/runs/c56aed0a442645429f8bdba2ab2e8931.\n",
      "2024/08/21 11:34:11 INFO mlflow.tracking._tracking_service.client: 🧪 View experiment at: http://127.0.0.1:5000/#/experiments/195843194857294316.\n"
     ]
    }
   ],
   "source": [
    "train(alpha=0.5, l1_ratio=0.5)"
   ]
  },
  {
   "cell_type": "code",
   "execution_count": 46,
   "metadata": {},
   "outputs": [
    {
     "name": "stdout",
     "output_type": "stream",
     "text": [
      "Elastic net model alpha = 0.20, l1 = 0.20\n",
      "Scores: rmse = 0.7874, mae = 0.6215, r2 = 0.1994\n",
      "save to /mnt/c/Users/satyendra.mishra/Work/mle-training-mlflow/Notebook/mlruns/195843194857294316/900fa7d0f8f24e019f7b7e8aa31aa481/artifacts\n"
     ]
    },
    {
     "name": "stderr",
     "output_type": "stream",
     "text": [
      "2024/08/21 11:34:14 WARNING mlflow.models.model: Input example should be provided to infer model signature if the model signature is not provided when logging the model.\n",
      "2024/08/21 11:34:15 INFO mlflow.tracking._tracking_service.client: 🏃 View run intrigued-robin-408 at: http://127.0.0.1:5000/#/experiments/195843194857294316/runs/900fa7d0f8f24e019f7b7e8aa31aa481.\n",
      "2024/08/21 11:34:15 INFO mlflow.tracking._tracking_service.client: 🧪 View experiment at: http://127.0.0.1:5000/#/experiments/195843194857294316.\n"
     ]
    }
   ],
   "source": [
    "train(alpha=0.2,  l1_ratio=0.2)"
   ]
  },
  {
   "cell_type": "code",
   "execution_count": 47,
   "metadata": {},
   "outputs": [
    {
     "name": "stdout",
     "output_type": "stream",
     "text": [
      "Elastic net model alpha = 0.10, l1 = 0.10\n",
      "Scores: rmse = 0.7825, mae = 0.6182, r2 = 0.2094\n",
      "save to /mnt/c/Users/satyendra.mishra/Work/mle-training-mlflow/Notebook/mlruns/195843194857294316/0e189fb01e4a4ea4b95d2e13c997f931/artifacts\n"
     ]
    },
    {
     "name": "stderr",
     "output_type": "stream",
     "text": [
      "2024/08/21 11:34:18 WARNING mlflow.models.model: Input example should be provided to infer model signature if the model signature is not provided when logging the model.\n",
      "2024/08/21 11:34:19 INFO mlflow.tracking._tracking_service.client: 🏃 View run melodic-shoat-925 at: http://127.0.0.1:5000/#/experiments/195843194857294316/runs/0e189fb01e4a4ea4b95d2e13c997f931.\n",
      "2024/08/21 11:34:19 INFO mlflow.tracking._tracking_service.client: 🧪 View experiment at: http://127.0.0.1:5000/#/experiments/195843194857294316.\n"
     ]
    }
   ],
   "source": [
    "train(alpha=0.1,  l1_ratio=0.1)"
   ]
  },
  {
   "cell_type": "code",
   "execution_count": 48,
   "metadata": {},
   "outputs": [
    {
     "name": "stdout",
     "output_type": "stream",
     "text": [
      "Elastic net model alpha = 0.01, l1 = 0.10\n",
      "Scores: rmse = 0.7672, mae = 0.5998, r2 = 0.2400\n",
      "save to /mnt/c/Users/satyendra.mishra/Work/mle-training-mlflow/Notebook/mlruns/195843194857294316/64277005834f486ab64c6826a606f8db/artifacts\n"
     ]
    },
    {
     "name": "stderr",
     "output_type": "stream",
     "text": [
      "2024/08/21 11:34:22 WARNING mlflow.models.model: Input example should be provided to infer model signature if the model signature is not provided when logging the model.\n",
      "2024/08/21 11:34:22 INFO mlflow.tracking._tracking_service.client: 🏃 View run carefree-snake-582 at: http://127.0.0.1:5000/#/experiments/195843194857294316/runs/64277005834f486ab64c6826a606f8db.\n",
      "2024/08/21 11:34:22 INFO mlflow.tracking._tracking_service.client: 🧪 View experiment at: http://127.0.0.1:5000/#/experiments/195843194857294316.\n"
     ]
    }
   ],
   "source": [
    "train(0.01, 0.1)"
   ]
  },
  {
   "cell_type": "markdown",
   "metadata": {},
   "source": [
    "#### Tagging"
   ]
  },
  {
   "cell_type": "code",
   "execution_count": 5,
   "metadata": {},
   "outputs": [],
   "source": [
    "from datetime import datetime\n",
    "from mlflow.tracking import MlflowClient"
   ]
  },
  {
   "cell_type": "code",
   "execution_count": 9,
   "metadata": {},
   "outputs": [
    {
     "data": {
      "text/plain": [
       "'file:///mnt/c/Users/satyendra.mishra/Work/mle-training-mlflow/Notebook/mlruns'"
      ]
     },
     "execution_count": 9,
     "metadata": {},
     "output_type": "execute_result"
    }
   ],
   "source": [
    "client = MlflowClient()\n",
    "client.tracking_uri"
   ]
  },
  {
   "cell_type": "code",
   "execution_count": 10,
   "metadata": {},
   "outputs": [
    {
     "data": {
      "text/plain": [
       "[<Experiment: artifact_location='/mnt/c/Users/satyendra.mishra/Work/mle-training-mlflow/Notebook/mlruns/195843194857294316', creation_time=1724220247184, experiment_id='195843194857294316', last_update_time=1724220247184, lifecycle_stage='active', name='ElasticNet_Wine', tags={}>,\n",
       " <Experiment: artifact_location='/mnt/c/Users/satyendra.mishra/Work/mle-training-mlflow/Notebook/mlruns/0', creation_time=1724220229716, experiment_id='0', last_update_time=1724220229716, lifecycle_stage='active', name='Default', tags={}>]"
      ]
     },
     "execution_count": 10,
     "metadata": {},
     "output_type": "execute_result"
    }
   ],
   "source": [
    "client.search_experiments()"
   ]
  },
  {
   "cell_type": "code",
   "execution_count": 11,
   "metadata": {},
   "outputs": [
    {
     "data": {
      "text/plain": [
       "<Experiment: artifact_location='/mnt/c/Users/satyendra.mishra/Work/mle-training-mlflow/Notebook/mlruns/195843194857294316', creation_time=1724220247184, experiment_id='195843194857294316', last_update_time=1724220247184, lifecycle_stage='active', name='ElasticNet_Wine', tags={}>"
      ]
     },
     "execution_count": 11,
     "metadata": {},
     "output_type": "execute_result"
    }
   ],
   "source": [
    "wine_experiment = client.get_experiment(experiment_id=\"195843194857294316\")\n",
    "wine_experiment"
   ]
  },
  {
   "cell_type": "code",
   "execution_count": 12,
   "metadata": {},
   "outputs": [],
   "source": [
    "wine_experiment_runs = client.search_runs(experiment_ids=[wine_experiment.experiment_id])"
   ]
  },
  {
   "cell_type": "code",
   "execution_count": 13,
   "metadata": {},
   "outputs": [
    {
     "name": "stdout",
     "output_type": "stream",
     "text": [
      "intrigued-skunk-217\t536fac7ab53440a5a2ba0620d8f324aa\n",
      "carefree-snake-582\t64277005834f486ab64c6826a606f8db\n",
      "melodic-shoat-925\t0e189fb01e4a4ea4b95d2e13c997f931\n",
      "intrigued-robin-408\t900fa7d0f8f24e019f7b7e8aa31aa481\n",
      "unruly-roo-172\tc56aed0a442645429f8bdba2ab2e8931\n"
     ]
    }
   ],
   "source": [
    "for run in wine_experiment_runs:\n",
    "    print(run.to_dictionary()[\"info\"][\"run_name\"], end=\"\\t\")\n",
    "    print(run.to_dictionary()[\"info\"][\"run_id\"])"
   ]
  },
  {
   "cell_type": "code",
   "execution_count": 14,
   "metadata": {},
   "outputs": [
    {
     "data": {
      "text/plain": [
       "<Run: data=<RunData: metrics={'mae': 0.5960340126564144,\n",
       " 'r2': 0.24622107331378273,\n",
       " 'rmse': 0.7640559726532203}, params={'alpha': '0.0042', 'l1_ratio': '0.1'}, tags={'deployed': '21-08-24 {14-02-41.2f}',\n",
       " 'mlflow.log-model.history': '[{\"run_id\": \"536fac7ab53440a5a2ba0620d8f324aa\", '\n",
       "                             '\"artifact_path\": \"ElasticNetModel\", '\n",
       "                             '\"utc_time_created\": \"2024-08-21 '\n",
       "                             '06:38:04.326123\", \"flavors\": {\"python_function\": '\n",
       "                             '{\"model_path\": \"model.pkl\", \"predict_fn\": '\n",
       "                             '\"predict\", \"loader_module\": \"mlflow.sklearn\", '\n",
       "                             '\"python_version\": \"3.12.2\", \"env\": {\"conda\": '\n",
       "                             '\"conda.yaml\", \"virtualenv\": \"python_env.yaml\"}}, '\n",
       "                             '\"sklearn\": {\"pickled_model\": \"model.pkl\", '\n",
       "                             '\"sklearn_version\": \"1.3.0\", '\n",
       "                             '\"serialization_format\": \"cloudpickle\", \"code\": '\n",
       "                             'null}}, \"model_uuid\": '\n",
       "                             '\"41fda8939baf41848272f977a45882ef\", '\n",
       "                             '\"mlflow_version\": \"2.15.1\", \"model_size_bytes\": '\n",
       "                             '878}]',\n",
       " 'mlflow.runName': 'intrigued-skunk-217',\n",
       " 'mlflow.source.git.commit': 'd68abab5768ad5ffbfdcea5f2f5ad6d28dfe4dc9',\n",
       " 'mlflow.source.name': 'train.py',\n",
       " 'mlflow.source.type': 'LOCAL',\n",
       " 'mlflow.user': 'saty'}>, info=<RunInfo: artifact_uri='/mnt/c/Users/satyendra.mishra/Work/mle-training-mlflow/Notebook/mlruns/195843194857294316/536fac7ab53440a5a2ba0620d8f324aa/artifacts', end_time=1724222287026, experiment_id='195843194857294316', lifecycle_stage='active', run_id='536fac7ab53440a5a2ba0620d8f324aa', run_name='intrigued-skunk-217', run_uuid='536fac7ab53440a5a2ba0620d8f324aa', start_time=1724222283169, status='FINISHED', user_id='saty'>, inputs=<RunInputs: dataset_inputs=[]>>"
      ]
     },
     "execution_count": 14,
     "metadata": {},
     "output_type": "execute_result"
    }
   ],
   "source": [
    "_run = client.get_run(run_id=\"536fac7ab53440a5a2ba0620d8f324aa\")\n",
    "_run"
   ]
  },
  {
   "cell_type": "code",
   "execution_count": 15,
   "metadata": {},
   "outputs": [],
   "source": [
    "dt_var = datetime.now().strftime(\"%d-%m-%y {%H-%M-%S.2f}\")\n",
    "client.set_tag(_run.info.run_id, \"deployed\", dt_var)"
   ]
  },
  {
   "cell_type": "code",
   "execution_count": null,
   "metadata": {},
   "outputs": [],
   "source": []
  }
 ],
 "metadata": {
  "kernelspec": {
   "display_name": "mle-dev",
   "language": "python",
   "name": "python3"
  },
  "language_info": {
   "codemirror_mode": {
    "name": "ipython",
    "version": 3
   },
   "file_extension": ".py",
   "mimetype": "text/x-python",
   "name": "python",
   "nbconvert_exporter": "python",
   "pygments_lexer": "ipython3",
   "version": "3.12.2"
  }
 },
 "nbformat": 4,
 "nbformat_minor": 2
}
